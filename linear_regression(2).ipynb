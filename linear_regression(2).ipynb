{
  "nbformat": 4,
  "nbformat_minor": 0,
  "metadata": {
    "colab": {
      "provenance": []
    },
    "kernelspec": {
      "name": "python3",
      "display_name": "Python 3"
    },
    "language_info": {
      "name": "python"
    }
  },
  "cells": [
    {
      "cell_type": "code",
      "execution_count": null,
      "metadata": {
        "id": "jQe-2IOgjSd7"
      },
      "outputs": [],
      "source": [
        "import torch\n",
        "import torch.nn as nn\n",
        "import torch.nn.functional as F\n",
        "import torch.optim as optim\n",
        "\n",
        "torch.manual_seed(1)"
      ]
    },
    {
      "cell_type": "code",
      "source": [
        "# 데이터셋 생성\n",
        "x_train = torch.FloatTensor([\n",
        "    [73,80,75],\n",
        "    [93,88,93],\n",
        "    [89,91,80],\n",
        "    [96,98,100] ])\n",
        "y_train = torch.FloatTensor([[152], [185], [180], [196]])\n",
        "\n",
        "# 모델 초기화\n",
        "W = torch.zeros((3,1), requires_grad=True)\n",
        "b = torch.zeros((1), requires_grad=True)\n",
        "\n",
        "# optimizer 설정\n",
        "optimizer = optim.SGD([W, b], lr = 1e-5)\n",
        "\n",
        "nb_epochs = 1000\n",
        "for epoch in range(nb_epochs + 1):\n",
        "    # 가설 및 손실함수\n",
        "    prediction = x_train.matmul(W) + b\n",
        "    cost = torch.mean((prediction - y_train) **2)\n",
        "\n",
        "    # 경사하강법\n",
        "    optimizer.zero_grad()\n",
        "    cost.backward()\n",
        "    optimizer.step()\n",
        "\n",
        "    # 100번마다 로그 출력\n",
        "    w_list = W.view(-1).tolist()\n",
        "    if epoch % 100 == 0:\n",
        "        print('Epoch {:4d}/{} w1: {:.3f}, w2: {:.3f}, w3: {:.3f}, b: {:.3f} Cost: {:.6f}'.format(\n",
        "            epoch, nb_epochs, w_list[0], w_list[1], w_list[2], b.item(), cost.item()\n",
        "        ))"
      ],
      "metadata": {
        "id": "lTJAP9c-jUQX"
      },
      "execution_count": null,
      "outputs": []
    },
    {
      "cell_type": "code",
      "source": [
        "test_data = torch.FloatTensor([[73,66,70]])\n",
        "prediction = test_data.matmul(W) + b\n",
        "print(prediction)"
      ],
      "metadata": {
        "id": "6bYa8S-Rjb39"
      },
      "execution_count": null,
      "outputs": []
    }
  ]
}